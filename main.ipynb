{
  "nbformat": 4,
  "nbformat_minor": 0,
  "metadata": {
    "colab": {
      "name": "main.ipynb",
      "provenance": [],
      "collapsed_sections": []
    },
    "kernelspec": {
      "display_name": "Python 3",
      "language": "python",
      "name": "python3"
    },
    "language_info": {
      "codemirror_mode": {
        "name": "ipython",
        "version": 3
      },
      "file_extension": ".py",
      "mimetype": "text/x-python",
      "name": "python",
      "nbconvert_exporter": "python",
      "pygments_lexer": "ipython3",
      "version": "3.7.3"
    }
  },
  "cells": [
    {
      "cell_type": "markdown",
      "metadata": {
        "colab_type": "text",
        "id": "F1sa_QJ55-fu"
      },
      "source": [
        "# **Project 4 - Q Learning**\n",
        "\n",
        "For this project, you will be tasked with both implementing and explaining key components of the Q-learning algorithm.\n",
        "\n",
        "All the code deliverables has to be provided within this notebook.\n",
        "\n",
        "# 1 - Packages\n",
        "Let's first import all the packages that you will need during this assignment.\n",
        "\n",
        "* \n",
        "[numpy](https://numpy.org/) - is the main package for scientific computing with Python\n",
        "*\n",
        "[matplotlib](https://matplotlib.org/) - is a plotting library\n",
        "*\n",
        "[gym](https://gym.openai.com/docs/) - Gym is a toolkit for developing and comparing reinforcement learning algorithms.\n",
        "*\n",
        "[gym.spaces](http://gym.openai.com/docs/) - Every environment comes with an action_space and an observation_space. These attributes are of type Space, and they describe the format of valid actions and observations.\n",
        "*\n",
        "[time](https://docs.python.org/3/library/time.html?highlight=time#module-time) - will be used to track how much time each computation takes\n",
        "*\n",
        "[copy](https://docs.python.org/3/library/copy.html) - A copy is sometimes needed so one can change one copy without changing the other.\n",
        "*\n",
        "[Threading](https://docs.python.org/3/library/threading.html) - This module constructs higher-level threading interfaces on top of the lower level thread module.\n",
        "*\n",
        "[Collections](https://docs.python.org/2/library/collections.html) - This module implements specialized container datatypes providing alternatives to Python’s general purpose built-in containers, dict, list, set, and tuple.\n"
      ]
    },
    {
      "cell_type": "code",
      "metadata": {
        "colab_type": "code",
        "id": "M_PLd07ie8k1",
        "colab": {}
      },
      "source": [
        "#######################################################################\n",
        "# Authors:\n",
        "# Nathan Margaglio (nathanmargaglio@gmail.com)                                                          \n",
        "# Mihir Hemant Chauhan (mihirhem@buffalo.edu)                       \n",
        "# Qian Cheng (qcheng2@buffalo.edu)                            \n",
        "#######################################################################\n",
        "import numpy as np\n",
        "import matplotlib.pyplot as plt\n",
        "import gym\n",
        "import gym.spaces\n",
        "import time\n",
        "import copy\n",
        "import threading\n",
        "import time\n",
        "import collections\n",
        "\n",
        "import random, math, time"
      ],
      "execution_count": 0,
      "outputs": []
    },
    {
      "cell_type": "markdown",
      "metadata": {
        "colab_type": "text",
        "id": "6AsLthEre8kw"
      },
      "source": [
        "`## Basic Environment\n",
        "Here we define our grid-world environment. No need to make any changes."
      ]
    },
    {
      "cell_type": "code",
      "metadata": {
        "colab_type": "code",
        "id": "1KZhxOunpbNp",
        "colab": {}
      },
      "source": [
        "class GridEnvironment(gym.Env):\n",
        "    metadata = { 'render.modes': ['human'] }\n",
        "    \n",
        "    def __init__(self, normalize=False, size=4):\n",
        "        self.observation_space = gym.spaces.Box(0, size, (size,))\n",
        "        self.action_space = gym.spaces.Discrete(4)\n",
        "        self.max_timesteps = size*2 + 1\n",
        "        self.normalize = normalize\n",
        "        self.size = size\n",
        "\n",
        "        # Generate State Transition Table\n",
        "        self.transition_matrix = []\n",
        "        for x in range(size + 1):\n",
        "            state_x = []\n",
        "            for y in range(size + 1):\n",
        "                state_y = []\n",
        "                for a in range(4):\n",
        "                    one_hot = np.zeros(4)\n",
        "                    one_hot[a] = 1\n",
        "                    state_y.append(one_hot)\n",
        "                state_x.append(state_y)\n",
        "            self.transition_matrix.append(state_x)\n",
        "        \n",
        "    def transition_func(self, x, y, action, return_probs=False):\n",
        "        probs = self.transition_matrix[x][y][action]\n",
        "        if return_probs:\n",
        "            return probs\n",
        "        else:\n",
        "            return np.random.choice(len(probs), p=probs)\n",
        "\n",
        "    def _get_distance(self, x, y):\n",
        "        return abs(x[0] - y[0]) + abs(x[1] - y[1])\n",
        "        \n",
        "    def reset(self):\n",
        "        self.timestep = 0\n",
        "        self.agent_pos = [0, 0]\n",
        "        self.goal_pos = [self.size, self.size]\n",
        "        self.state = np.zeros((self.size + 1, self.size + 1))\n",
        "        self.state[tuple(self.agent_pos)] = 1\n",
        "        self.state[tuple(self.goal_pos)] = 0.5\n",
        "        self.prev_distance = self._get_distance(self.agent_pos, self.goal_pos)\n",
        "        return np.array(self.agent_pos)/1.\n",
        "    \n",
        "    def step(self, action):\n",
        "        action_taken = self.transition_func(self.agent_pos[0], self.agent_pos[1], action)\n",
        "        self.state = np.random.choice(self.observation_space.shape[0])\n",
        "        if action_taken == 0:\n",
        "            self.agent_pos[0] += 1\n",
        "        if action_taken == 1:\n",
        "            self.agent_pos[0] -= 1\n",
        "        if action_taken == 2:\n",
        "            self.agent_pos[1] += 1\n",
        "        if action_taken == 3:\n",
        "            self.agent_pos[1] -= 1\n",
        "          \n",
        "        self.agent_pos = np.clip(self.agent_pos, 0, self.size)\n",
        "        self.state = np.zeros((self.size + 1, self.size + 1))\n",
        "        self.state[tuple(self.agent_pos)] = 1\n",
        "        self.state[tuple(self.goal_pos)] = 0.5\n",
        "        \n",
        "        current_distance = self._get_distance(self.agent_pos, self.goal_pos)\n",
        "        if current_distance < self.prev_distance:\n",
        "            reward = 1\n",
        "        elif current_distance > self.prev_distance:\n",
        "            reward = -1\n",
        "        else:\n",
        "            reward = -1\n",
        "        self.prev_distance = current_distance\n",
        "        \n",
        "        self.timestep += 1\n",
        "        if self.timestep >= self.max_timesteps or current_distance == 0:\n",
        "            done = True\n",
        "        else:\n",
        "            done = False\n",
        "        info = {}\n",
        "        \n",
        "        obs = self.agent_pos\n",
        "        if self.normalize:\n",
        "            obs = obs/self.size\n",
        "        return obs, reward, done, info\n",
        "        \n",
        "    def render(self, mode='human'):\n",
        "        plt.imshow(self.state)"
      ],
      "execution_count": 0,
      "outputs": []
    },
    {
      "cell_type": "code",
      "metadata": {
        "colab_type": "code",
        "id": "hy2YHvlNe8lW",
        "colab": {
          "base_uri": "https://localhost:8080/",
          "height": 265
        },
        "outputId": "ed49ce6e-ea50-4265-830b-dd6b453aa764"
      },
      "source": [
        "env = GridEnvironment()\n",
        "obs = env.reset()\n",
        "env.render()"
      ],
      "execution_count": 3,
      "outputs": [
        {
          "output_type": "display_data",
          "data": {
            "image/png": "[encoded data removed]",
            "text/plain": [
              "<Figure size 432x288 with 1 Axes>"
            ]
          },
          "metadata": {
            "tags": []
          }
        }
      ]
    },
    {
      "cell_type": "markdown",
      "metadata": {
        "colab_type": "text",
        "id": "Bc3VOQuJF1el"
      },
      "source": [
        "## Random Agent\n",
        "This runs the environment with a random agent that just takes random actions. Neither does he learn, nor remember anything. Try to run it!"
      ]
    },
    {
      "cell_type": "code",
      "metadata": {
        "colab_type": "code",
        "id": "z9XqqwQtFr8k",
        "colab": {}
      },
      "source": [
        "class RandomAgent:\n",
        "    def __init__(self, env):\n",
        "        self.env = env\n",
        "        self.observation_space = env.observation_space\n",
        "        self.action_space = env.action_space\n",
        "\n",
        "    def policy(self, observation):\n",
        "        return np.random.choice(self.action_space.n)\n",
        "        \n",
        "    def step(self, observation, verbose=False):\n",
        "        return self.policy(observation)"
      ],
      "execution_count": 0,
      "outputs": []
    },
    {
      "cell_type": "code",
      "metadata": {
        "colab_type": "code",
        "id": "0S5tBBqfF-s3",
        "colab": {
          "base_uri": "https://localhost:8080/",
          "height": 1000
        },
        "outputId": "47e73f34-c67e-438f-f6bf-e3233ecbdfcf"
      },
      "source": [
        "env = GridEnvironment(normalize=True)\n",
        "agent = RandomAgent(env)\n",
        "\n",
        "obs = env.reset()\n",
        "done = False\n",
        "agent.epsilon = 0\n",
        "env.render()\n",
        "plt.show()\n",
        "\n",
        "while not done:\n",
        "    action = agent.step(obs, verbose=True)\n",
        "    obs, reward, done, info = env.step(action)\n",
        "    env.render()\n",
        "    plt.show()"
      ],
      "execution_count": 5,
      "outputs": [
        {
          "output_type": "display_data",
          "data": {
            "image/png": "[encoded data removed]",
            "text/plain": [
              "<Figure size 432x288 with 1 Axes>"
            ]
          },
          "metadata": {
            "tags": []
          }
        },
        {
          "output_type": "display_data",
          "data": {
            "image/png": "[encoded data removed]",
            "text/plain": [
              "<Figure size 432x288 with 1 Axes>"
            ]
          },
          "metadata": {
            "tags": []
          }
        },
        {
          "output_type": "display_data",
          "data": {
            "image/png": "[encoded data removed]",
            "text/plain": [
              "<Figure size 432x288 with 1 Axes>"
            ]
          },
          "metadata": {
            "tags": []
          }
        },
        {
          "output_type": "display_data",
          "data": {
            "image/png": "[encoded data removed]",
            "text/plain": [
              "<Figure size 432x288 with 1 Axes>"
            ]
          },
          "metadata": {
            "tags": []
          }
        },
        {
          "output_type": "display_data",
          "data": {
            "image/png": "[encoded data removed]",
            "text/plain": [
              "<Figure size 432x288 with 1 Axes>"
            ]
          },
          "metadata": {
            "tags": []
          }
        },
        {
          "output_type": "display_data",
          "data": {
            "image/png": "[encoded data removed]",
            "text/plain": [
              "<Figure size 432x288 with 1 Axes>"
            ]
          },
          "metadata": {
            "tags": []
          }
        },
        {
          "output_type": "display_data",
          "data": {
            "image/png": "[encoded data removed]",
            "text/plain": [
              "<Figure size 432x288 with 1 Axes>"
            ]
          },
          "metadata": {
            "tags": []
          }
        },
        {
          "output_type": "display_data",
          "data": {
            "image/png": "[encoded data removed]",
            "text/plain": [
              "<Figure size 432x288 with 1 Axes>"
            ]
          },
          "metadata": {
            "tags": []
          }
        },
        {
          "output_type": "display_data",
          "data": {
            "image/png": "[encoded data removed]",
            "text/plain": [
              "<Figure size 432x288 with 1 Axes>"
            ]
          },
          "metadata": {
            "tags": []
          }
        },
        {
          "output_type": "display_data",
          "data": {
            "image/png": "[encoded data removed]",
            "text/plain": [
              "<Figure size 432x288 with 1 Axes>"
            ]
          },
          "metadata": {
            "tags": []
          }
        }
      ]
    },
    {
      "cell_type": "markdown",
      "metadata": {
        "colab_type": "text",
        "id": "JCKzZh7u0zFJ"
      },
      "source": [
        "## Heuristic Agent\n",
        "This runs the environment with a heuristic agent. No need to make any changes. Try to run it!"
      ]
    },
    {
      "cell_type": "code",
      "metadata": {
        "colab_type": "code",
        "id": "aVGLhrTG0yQp",
        "colab": {}
      },
      "source": [
        "class HeuristicAgent:\n",
        "    def __init__(self, env):\n",
        "        self.env = env\n",
        "        self.observation_space = env.observation_space\n",
        "        self.action_space = env.action_space\n",
        "\n",
        "    def policy(self, observation):\n",
        "        # 0 - down\n",
        "        # 1 - up\n",
        "        # 2 - right\n",
        "        # 3 - left\n",
        "\n",
        "        if (observation[0] < 1.):\n",
        "            return 0\n",
        "        if (observation[1] < 1.):\n",
        "            return 2\n",
        "        return 0\n",
        "        \n",
        "    def step(self, observation, verbose=False):\n",
        "        if verbose:\n",
        "            print(observation)\n",
        "        return self.policy(observation)"
      ],
      "execution_count": 0,
      "outputs": []
    },
    {
      "cell_type": "code",
      "metadata": {
        "colab_type": "code",
        "id": "kZGSRSzo07v-",
        "colab": {
          "base_uri": "https://localhost:8080/",
          "height": 1000
        },
        "outputId": "3f1a0258-49c9-4e09-8255-9892a47bca5b"
      },
      "source": [
        "env = GridEnvironment(normalize=True)\n",
        "agent = HeuristicAgent(env)\n",
        "\n",
        "obs = env.reset()\n",
        "done = False\n",
        "agent.epsilon = 0\n",
        "env.render()\n",
        "plt.show()\n",
        "\n",
        "while not done:\n",
        "    action = agent.step(obs, verbose=True)\n",
        "    obs, reward, done, info = env.step(action)\n",
        "    env.render()\n",
        "    plt.show()"
      ],
      "execution_count": 7,
      "outputs": [
        {
          "output_type": "display_data",
          "data": {
            "image/png": "[encoded data removed]",
            "text/plain": [
              "<Figure size 432x288 with 1 Axes>"
            ]
          },
          "metadata": {
            "tags": []
          }
        },
        {
          "output_type": "stream",
          "text": [
            "[0. 0.]\n"
          ],
          "name": "stdout"
        },
        {
          "output_type": "display_data",
          "data": {
            "image/png": "[encoded data removed]",
            "text/plain": [
              "<Figure size 432x288 with 1 Axes>"
            ]
          },
          "metadata": {
            "tags": []
          }
        },
        {
          "output_type": "stream",
          "text": [
            "[0.25 0.  ]\n"
          ],
          "name": "stdout"
        },
        {
          "output_type": "display_data",
          "data": {
            "image/png": "[encoded data removed]",
            "text/plain": [
              "<Figure size 432x288 with 1 Axes>"
            ]
          },
          "metadata": {
            "tags": []
          }
        },
        {
          "output_type": "stream",
          "text": [
            "[0.5 0. ]\n"
          ],
          "name": "stdout"
        },
        {
          "output_type": "display_data",
          "data": {
            "image/png": "[encoded data removed]",
            "text/plain": [
              "<Figure size 432x288 with 1 Axes>"
            ]
          },
          "metadata": {
            "tags": []
          }
        },
        {
          "output_type": "stream",
          "text": [
            "[0.75 0.  ]\n"
          ],
          "name": "stdout"
        },
        {
          "output_type": "display_data",
          "data": {
            "image/png": "[encoded data removed]",
            "text/plain": [
              "<Figure size 432x288 with 1 Axes>"
            ]
          },
          "metadata": {
            "tags": []
          }
        },
        {
          "output_type": "stream",
          "text": [
            "[1. 0.]\n"
          ],
          "name": "stdout"
        },
        {
          "output_type": "display_data",
          "data": {
            "image/png": "[encoded data removed]",
            "text/plain": [
              "<Figure size 432x288 with 1 Axes>"
            ]
          },
          "metadata": {
            "tags": []
          }
        },
        {
          "output_type": "stream",
          "text": [
            "[1.   0.25]\n"
          ],
          "name": "stdout"
        },
        {
          "output_type": "display_data",
          "data": {
            "image/png": "[encoded data removed]",
            "text/plain": [
              "<Figure size 432x288 with 1 Axes>"
            ]
          },
          "metadata": {
            "tags": []
          }
        },
        {
          "output_type": "stream",
          "text": [
            "[1.  0.5]\n"
          ],
          "name": "stdout"
        },
        {
          "output_type": "display_data",
          "data": {
            "image/png": "[encoded data removed]",
            "text/plain": [
              "<Figure size 432x288 with 1 Axes>"
            ]
          },
          "metadata": {
            "tags": []
          }
        },
        {
          "output_type": "stream",
          "text": [
            "[1.   0.75]\n"
          ],
          "name": "stdout"
        },
        {
          "output_type": "display_data",
          "data": {
            "image/png": "[encoded data removed]",
            "text/plain": [
              "<Figure size 432x288 with 1 Axes>"
            ]
          },
          "metadata": {
            "tags": []
          }
        }
      ]
    },
    {
      "cell_type": "markdown",
      "metadata": {
        "colab_type": "text",
        "id": "oSjsMD6Ze8ld"
      },
      "source": [
        "## Tabular Q-Learning\n",
        "This is where you need to define policy and update Q tables.\n",
        "For policy.\n",
        "\n",
        "*  \n",
        "[np.argmax](https://docs.scipy.org/doc/numpy/reference/generated/numpy.argmax.html) - Returns the indices of the maximum values along an axis.\n",
        "\n",
        "### Epsilon\n",
        "\n",
        "Our agent will randomly select its action at first by a certain percentage, called ‘exploration rate’ or ‘epsilon’. This is because at first, it is better for the agent to try all kinds of things before it starts to see the patterns. When it is not deciding the action randomly, the agent will predict the reward value based on the current state and pick the action that will give the highest reward. We want our agent to decrease the number of random action, as it goes, so we indroduce an exponential-decay epsilon, that eventually will allow our agent to explore the evironment. \\\\\n",
        "\n",
        "\n",
        "\n",
        "###  <font color='red'>Task 1: Implement policy function.</font>  <br>\n",
        "**Instructions:**\n",
        "- Our agent will randomly select its action at first by a certain percentage, called ‘exploration rate’ or ‘epsilon’. This is because at first, it is better for the agent to try all kinds of things before it starts to see the patterns. Select a random uniform number. If it's less than epsilon, return the random choice action space.\n",
        "- When it is not deciding the action randomly, the agent will predict the reward value based on the current state and pick the action that will give the highest reward. \n",
        "\\begin{align} \\notag\n",
        "\\pi\\left(s_{t}\\right)=\\underset{a \\in A}{\\operatorname{argmax}} Q_{\\theta}\\left(s_{t}, a\\right)\n",
        "\\end{align} \n",
        "- Return the policy\n",
        "- Please note, that the name for all the variables should start with <mark>self</mark>, thus </br> \n",
        "\n",
        "epsilon $\\rightarrow$ self.epsilon </br> \n",
        "action_space $\\rightarrow$ self.action_space\n",
        "\n",
        "###  <font color='red'>Task 2: Update Q-table</font>  <br>\n",
        "**Instructions:**\n",
        "            \\begin{align} \\notag\n",
        "            Q^{n e w}\\left(s_{t}, a_{t}\\right) \\leftarrow(1-\\alpha) \\cdot \\underbrace{Q\\left(s_{t}, a_{t}\\right)}_{\\text {old value }}+\\underbrace{\\alpha}_{\\text {learning rate }} \\cdot \\overbrace{(\\underbrace{r_{t}}_{\\text {reward }} + \\underbrace{\\gamma}_{\\text {discount factor }} \\underbrace{\\max _{a} Q\\left(s_{t+1}, a\\right)}_{a})}^{\\text {learned value }}\n",
        "            \\end{align} "
      ]
    },
    {
      "cell_type": "code",
      "metadata": {
        "colab_type": "code",
        "id": "l88irSuqe8lf",
        "colab": {}
      },
      "source": [
        "class QLearningAgent:\n",
        "    def __init__(self, env, epsilon=1.0, lr=0.1, gamma=0.9):\n",
        "        self.env = env\n",
        "        self.observation_space = env.observation_space\n",
        "        self.action_space = env.action_space\n",
        "        q_table_dim = env.observation_space.shape[0] + 1\n",
        "        self.q_table = np.zeros((q_table_dim, q_table_dim, env.action_space.n))\n",
        "        self.epsilon = epsilon\n",
        "        self.lr = lr\n",
        "        self.gamma = gamma\n",
        "\n",
        "    def policy(self, observation):\n",
        "        # Code for policy (Task 1) (30 points)\n",
        "        \n",
        "        if random.uniform(0,1) < self.epsilon:      \n",
        "            action = np.random.choice(self.action_space.n)\n",
        "        else:                                       \n",
        "            action = np.argmax(self.q_table[int(observation[0]),int(observation[1])])\n",
        "        return action\n",
        "        \n",
        "    def step(self, observation):\n",
        "        return self.policy(observation)\n",
        "        \n",
        "    def update(self, state, action, reward, next_state):\n",
        "        state = state.astype(int)\n",
        "        next_state = next_state.astype(int)\n",
        "        # Code for updating Q Table (Task 2) (20 points)\n",
        "        \n",
        "        if next_state is None:             \n",
        "            self.q_table[state[0],state[1],action] = (1-self.lr)*self.q_table[state[0],state[1],action] + self.lr*(reward)\n",
        "        else:                              \n",
        "            self.q_table[state[0],state[1],action] = (1-self.lr)*self.q_table[state[0],state[1],action] + self.lr * (reward + (self.gamma*(np.max(self.q_table[next_state[0],next_state[1]]))))\n",
        "        \n",
        "    def set_epsilon(self, epsilon):\n",
        "        self.epsilon = epsilon"
      ],
      "execution_count": 0,
      "outputs": []
    },
    {
      "cell_type": "markdown",
      "metadata": {
        "colab_type": "text",
        "id": "UNKDdzD3e8lj"
      },
      "source": [
        "### Training\n",
        "### Environment\n",
        "First, we initialize our environment.  The environment, loosely structured like [OpenAI's Gym Environments](https://gym.openai.com/), has three main methods: `reset`, `step` and `render`. You'll only need `reset` and `step` here.\n",
        "\n",
        "- When we call **reset**, we initialize the environment with a fresh episode. This allows us to effectively run through episodes (only needing to call reset at the beginning of an episode), but, more importantly, `reset()` returns the environment's initial state.\n",
        "\n",
        "- The **step** method accepts an action as a parameter (which, for this example, is an integer in [0, 3]), processes the action, and returns the new state, the reward for performing the action, and a boolean indicating if the run is over.\n",
        "\n",
        "### Agent\n",
        "When we initialize the agent, we must pass both a `environment` into QLearningAgent function.\n",
        "###  <font color='red'>Task 3: Implement the training algorithm</font>  <br>\n",
        "**Instructions:**\n",
        "- After initialization, pass the initial state to obs. Then check if it's already done. If done = False, you'll keep going. While it's not done, you'll need to update `state`, `action`,`reward` and `next_state`. You can get action by `step` the current state on agent. Use `copy` to record the current state. `step` the current action on environment to return the new state, the reward for performing the action, a boolean indicating if the run is over and some other information. Add the new reward on the total rewards. Use `copy` to save the new state returned by `step`. Update the `state`, `action`, `reward`, `next_state` of agent."
      ]
    },
    {
      "cell_type": "code",
      "metadata": {
        "colab_type": "code",
        "id": "2SDbl2Kue8lk",
        "colab": {
          "base_uri": "https://localhost:8080/",
          "height": 1000
        },
        "outputId": "6cab2a90-f834-4df1-da4e-3f4baf2111ec"
      },
      "source": [
        "env = GridEnvironment() # note: we do not normalize\n",
        "agent = QLearningAgent(env)\n",
        "episodes = 1000 # number of games we want the agent to play\n",
        "delta_epsilon = agent.epsilon/episodes\n",
        "decay = 0.997\n",
        "total_rewards = []\n",
        "epsilons = [agent.epsilon]\n",
        "\n",
        "# Training Process (Task 3) (20 points)\n",
        "\n",
        "for episode in range(episodes):\n",
        "     obs = env.reset()     \n",
        "     completed = False\n",
        "     epsilons.append(agent.epsilon)    \n",
        "     current_reward = 0\n",
        "     while not completed: \n",
        "        action = agent.step(obs)\n",
        "        state = np.copy(obs)          \n",
        "        obs, reward, completed, info = env.step(action)    \n",
        "        current_reward += reward\n",
        "        next_state= np.copy(obs)     \n",
        "        agent.update(state, action, reward, next_state) \n",
        "     total_rewards.append(current_reward)\n",
        "     agent.set_epsilon(max(agent.epsilon*decay,0.03))\n",
        "     if episode % 200 == 0:\n",
        "         env.render()\n",
        "         plt.show()\n",
        "         print('Epsilon value : {}'.format(epsilons[-1]))\n",
        "         print('Last Episode Reward: {}'.format(total_rewards[-1]))\n",
        "print(\"Q-table: {}\".format(agent.q_table))"
      ],
      "execution_count": 14,
      "outputs": [
        {
          "output_type": "display_data",
          "data": {
            "image/png": "[encoded data removed]",
            "text/plain": [
              "<Figure size 432x288 with 1 Axes>"
            ]
          },
          "metadata": {
            "tags": []
          }
        },
        {
          "output_type": "stream",
          "text": [
            "Epsilon value : 1.0\n",
            "Last Episode Reward: 3\n"
          ],
          "name": "stdout"
        },
        {
          "output_type": "display_data",
          "data": {
            "image/png": "[encoded data removed]",
            "text/plain": [
              "<Figure size 432x288 with 1 Axes>"
            ]
          },
          "metadata": {
            "tags": []
          }
        },
        {
          "output_type": "stream",
          "text": [
            "Epsilon value : 0.818648829478636\n",
            "Last Episode Reward: 5\n"
          ],
          "name": "stdout"
        },
        {
          "output_type": "display_data",
          "data": {
            "image/png": "[encoded data removed]",
            "text/plain": [
              "<Figure size 432x288 with 1 Axes>"
            ]
          },
          "metadata": {
            "tags": []
          }
        },
        {
          "output_type": "stream",
          "text": [
            "Epsilon value : 0.6701859060067403\n",
            "Last Episode Reward: 1\n"
          ],
          "name": "stdout"
        },
        {
          "output_type": "display_data",
          "data": {
            "image/png": "[encoded data removed]",
            "text/plain": [
              "<Figure size 432x288 with 1 Axes>"
            ]
          },
          "metadata": {
            "tags": []
          }
        },
        {
          "output_type": "stream",
          "text": [
            "Epsilon value : 0.5486469074854965\n",
            "Last Episode Reward: 3\n"
          ],
          "name": "stdout"
        },
        {
          "output_type": "display_data",
          "data": {
            "image/png": "[encoded data removed]",
            "text/plain": [
              "<Figure size 432x288 with 1 Axes>"
            ]
          },
          "metadata": {
            "tags": []
          }
        },
        {
          "output_type": "stream",
          "text": [
            "Epsilon value : 0.4491491486100748\n",
            "Last Episode Reward: 7\n",
            "Q-table: [[[ 5.69311933  4.11579818  5.67601162  4.11590888]\n",
            "  [ 5.20937093  3.48751254  4.72989185  4.01797385]\n",
            "  [ 4.46999438  1.86801042  1.55351644  2.51480272]\n",
            "  [ 0.57949262 -0.21253851  1.21855181  0.57657672]\n",
            "  [ 0.82437145 -0.47729068 -0.2080866  -0.08310669]]\n",
            "\n",
            " [[ 5.19975874  4.11509197  5.21508417  3.68424255]\n",
            "  [ 4.68397204  3.66019981  4.657802    3.67405242]\n",
            "  [ 4.08700837  2.36313944  3.42066822  2.76652168]\n",
            "  [ 3.36412306 -0.21016469  1.04332368  0.77490877]\n",
            "  [ 1.10996567 -0.30311893  0.          0.24535685]]\n",
            "\n",
            " [[ 3.56068444  3.47745305  4.67809252  2.91850228]\n",
            "  [ 3.72863913  3.19455334  4.09371265  3.17973186]\n",
            "  [ 3.30895449  2.61205781  3.43792855  2.65981061]\n",
            "  [ 2.70932364  1.83871329  1.98019522  1.94468537]\n",
            "  [ 1.4016264  -0.302448   -0.26819767  0.62910829]]\n",
            "\n",
            " [[ 1.18056812  1.84143031  3.30392202  0.54715113]\n",
            "  [ 3.17517464  2.05504118  2.69270212  0.90337405]\n",
            "  [ 2.66826055  1.14396765  1.74745667  0.52052339]\n",
            "  [ 1.89962058  1.18491687  1.18243128  1.10838693]\n",
            "  [ 0.81469798 -0.0608761  -0.33540819  0.1192459 ]]\n",
            "\n",
            " [[-0.37197506 -0.03450233  1.77146482 -0.3571182 ]\n",
            "  [ 0.11005205  0.82229255  2.60373946 -0.08085744]\n",
            "  [ 0.26919871  0.96553855  1.89153729  0.65207359]\n",
            "  [-0.18627302  0.37193498  0.99988389  0.24030134]\n",
            "  [ 0.          0.          0.          0.        ]]]\n"
          ],
          "name": "stdout"
        }
      ]
    },
    {
      "cell_type": "markdown",
      "metadata": {
        "colab_type": "text",
        "id": "AHDJV4ZAE2l8"
      },
      "source": [
        "#### Visualize $\\epsilon$\n",
        "Plot our value of $\\epsilon$ over each episode"
      ]
    },
    {
      "cell_type": "code",
      "metadata": {
        "colab_type": "code",
        "id": "q137fw4je8ln",
        "colab": {
          "base_uri": "https://localhost:8080/",
          "height": 296
        },
        "outputId": "216f84b5-3344-4aee-880c-e6b15a672be2"
      },
      "source": [
        "plt.xlabel('Episode')\n",
        "plt.ylabel('$\\epsilon$')\n",
        "plt.plot(epsilons)"
      ],
      "execution_count": 10,
      "outputs": [
        {
          "output_type": "execute_result",
          "data": {
            "text/plain": [
              "[<matplotlib.lines.Line2D at 0x7f9293526a20>]"
            ]
          },
          "metadata": {
            "tags": []
          },
          "execution_count": 10
        },
        {
          "output_type": "display_data",
          "data": {
            "image/png": "[encoded data removed]",
            "text/plain": [
              "<Figure size 432x288 with 1 Axes>"
            ]
          },
          "metadata": {
            "tags": []
          }
        }
      ]
    },
    {
      "cell_type": "markdown",
      "metadata": {
        "colab_type": "text",
        "id": "30Yr74K2e8lr"
      },
      "source": [
        "#### Visualize Rewards\n",
        "Plot total_rewards per episode.  We apply a rolling mean of window $10$ to visualize easier."
      ]
    },
    {
      "cell_type": "code",
      "metadata": {
        "colab_type": "code",
        "id": "Raqojkywe8ls",
        "colab": {
          "base_uri": "https://localhost:8080/",
          "height": 296
        },
        "outputId": "3e092e0c-b8ff-417d-8f70-04e886cfbeb9"
      },
      "source": [
        "window = 10\n",
        "plt.xlabel('Episode')\n",
        "plt.ylabel('Total Reward (SMA 10)')\n",
        "plt.plot([np.mean(total_rewards[tr:tr+window]) for tr in range(window, len(total_rewards))])"
      ],
      "execution_count": 11,
      "outputs": [
        {
          "output_type": "execute_result",
          "data": {
            "text/plain": [
              "[<matplotlib.lines.Line2D at 0x7f929225afd0>]"
            ]
          },
          "metadata": {
            "tags": []
          },
          "execution_count": 11
        },
        {
          "output_type": "display_data",
          "data": {
            "image/png": "[encoded data removed]",
            "text/plain": [
              "<Figure size 432x288 with 1 Axes>"
            ]
          },
          "metadata": {
            "tags": []
          }
        }
      ]
    },
    {
      "cell_type": "code",
      "metadata": {
        "colab_type": "code",
        "id": "M6wai0MeiGVG",
        "colab": {
          "base_uri": "https://localhost:8080/",
          "height": 1000
        },
        "outputId": "218be087-2662-4c7c-c0e9-9c22ab72945f"
      },
      "source": [
        "env = GridEnvironment()\n",
        "\n",
        "obs = env.reset()\n",
        "done = False\n",
        "agent.epsilon = 0\n",
        "env.render()\n",
        "plt.show()\n",
        "\n",
        "while not done:\n",
        "    action = agent.step(obs)\n",
        "    obs, reward, done, info = env.step(action)\n",
        "    env.render()\n",
        "    plt.show()"
      ],
      "execution_count": 12,
      "outputs": [
        {
          "output_type": "display_data",
          "data": {
            "image/png": "[encoded data removed]",
            "text/plain": [
              "<Figure size 432x288 with 1 Axes>"
            ]
          },
          "metadata": {
            "tags": []
          }
        },
        {
          "output_type": "display_data",
          "data": {
            "image/png": "[encoded data removed]",
            "text/plain": [
              "<Figure size 432x288 with 1 Axes>"
            ]
          },
          "metadata": {
            "tags": []
          }
        },
        {
          "output_type": "display_data",
          "data": {
            "image/png": "[encoded data removed]",
            "text/plain": [
              "<Figure size 432x288 with 1 Axes>"
            ]
          },
          "metadata": {
            "tags": []
          }
        },
        {
          "output_type": "display_data",
          "data": {
            "image/png": "[encoded data removed]",
            "text/plain": [
              "<Figure size 432x288 with 1 Axes>"
            ]
          },
          "metadata": {
            "tags": []
          }
        },
        {
          "output_type": "display_data",
          "data": {
            "image/png": "[encoded data removed]",
            "text/plain": [
              "<Figure size 432x288 with 1 Axes>"
            ]
          },
          "metadata": {
            "tags": []
          }
        },
        {
          "output_type": "display_data",
          "data": {
            "image/png": "[encoded data removed]",
            "text/plain": [
              "<Figure size 432x288 with 1 Axes>"
            ]
          },
          "metadata": {
            "tags": []
          }
        },
        {
          "output_type": "display_data",
          "data": {
            "image/png": "[encoded data removed]",
            "text/plain": [
              "<Figure size 432x288 with 1 Axes>"
            ]
          },
          "metadata": {
            "tags": []
          }
        },
        {
          "output_type": "display_data",
          "data": {
            "image/png": "[encoded data removed]",
            "text/plain": [
              "<Figure size 432x288 with 1 Axes>"
            ]
          },
          "metadata": {
            "tags": []
          }
        },
        {
          "output_type": "display_data",
          "data": {
            "image/png": "[encoded data removed]",
            "text/plain": [
              "<Figure size 432x288 with 1 Axes>"
            ]
          },
          "metadata": {
            "tags": []
          }
        }
      ]
    }
  ]
}